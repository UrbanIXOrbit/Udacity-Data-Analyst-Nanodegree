{
 "cells": [
  {
   "cell_type": "markdown",
   "metadata": {},
   "source": [
    "## Reporting: wragle_report\n"
   ]
  },
  {
   "cell_type": "markdown",
   "metadata": {},
   "source": [
    "### A report of the data wrangling process of the we rate dogs datasets."
   ]
  },
  {
   "cell_type": "markdown",
   "metadata": {
    "tags": []
   },
   "source": [
    "Having gathered the required datasets of the we rate dogs Twitter handle. We assessed the three datasets for quality and tidness issues. We pointed out eight (8) quality issues and two (2) tidness issues using both visual and pragamatic assessment.\n",
    "\n",
    "For the visual assessment we used the Jupiter Lab Editor, we imployed the Pandas methods such as info(), describe(), isnull(), head(), value_counts() in assessing our datasets programmatically.\n",
    "\n",
    "For our cleaning process, we started by merging together the three datasets eliminating duplicate attributes shared by the three datasets to get one dataset which will be used for our analysis. While one of the quality issues is that the some of the ratings in the dataset are not dog's rating, we dropped them using the three image predictions; p1, p2 and p3 that are all together false.\n",
    "\n",
    "The source column of the dataset containing residual html tags as a result of the web scrapping was cleaned by extracting the relevant information. \n",
    "\n",
    "The attributes such as the \"tweet_id\" and \"timestamp\" with incorrect data format were converted into the appropriate formats. With the we rate dogs rating style, the \"rating_denominator\" ought to be 10 as such we dropped the observations with ratings higer or lesser than 10. For the \"rating_numerator\" attributes, observations that are outliers were dropped. Also dogs with inaccurate conventional names such as \"a\" were also dropped to ensure the accuracy of dataset.\n",
    "\n",
    "The stages of the dog growth which were presented under different columns: \"doggo\", \"floofer\", \"pupper\", \"puppo\" were combined under the attribute name \"stages\" to give it the appropriateness of the categorical classification it deserves.\n",
    "\n",
    "In the course of the data wrangling processes described above, efforts were made to protect the integrity of the data while making it as clean as possible for effective and efficient analysis. The clean data was stored in a separated CSV file named \"twitter_archive_master.csv\".\n"
   ]
  }
 ],
 "metadata": {
  "kernelspec": {
   "display_name": "Python 3 (ipykernel)",
   "language": "python",
   "name": "python3"
  },
  "language_info": {
   "codemirror_mode": {
    "name": "ipython",
    "version": 3
   },
   "file_extension": ".py",
   "mimetype": "text/x-python",
   "name": "python",
   "nbconvert_exporter": "python",
   "pygments_lexer": "ipython3",
   "version": "3.8.13"
  }
 },
 "nbformat": 4,
 "nbformat_minor": 4
}
